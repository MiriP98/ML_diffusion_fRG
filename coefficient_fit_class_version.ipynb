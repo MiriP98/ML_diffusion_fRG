{
 "cells": [
  {
   "cell_type": "code",
   "execution_count": 1,
   "id": "4d636ac2-9033-48d0-afb6-40e9adb760a1",
   "metadata": {},
   "outputs": [],
   "source": [
    "import torch\n",
    "import torch.nn as nn\n",
    "import torch.nn.functional as F\n",
    "import numpy as np\n",
    "import matplotlib.pyplot as plt\n",
    "from tqdm.notebook import trange, tqdm\n",
    "\n",
    "from torch.optim import Adam"
   ]
  },
  {
   "cell_type": "code",
   "execution_count": 2,
   "id": "a2a094d5-a1e2-4b3d-9246-623831e75284",
   "metadata": {},
   "outputs": [],
   "source": [
    "device = 'cuda' if torch.cuda.is_available() else 'cpu'"
   ]
  },
  {
   "cell_type": "markdown",
   "id": "a0e4988b-a0ef-41c2-8f97-7b1b1eac028a",
   "metadata": {},
   "source": [
    "# Action model definition"
   ]
  },
  {
   "cell_type": "code",
   "execution_count": 3,
   "id": "54e99ec5-9000-488f-8fe8-9a3e439ee842",
   "metadata": {},
   "outputs": [],
   "source": [
    "class ActionModel():\n",
    "    def __init__(self, network):\n",
    "        self.network = network\n",
    "        self.optimizer = Adam(self.network.parameters(), lr=1e-4)\n",
    "        self.scheduler = torch.optim.lr_scheduler.ExponentialLR(self.optimizer, gamma=0.999)\n",
    "        \n",
    "        self.sigma = torch.tensor(25., device=device)\n",
    "        \n",
    "    def diff_coeff(self,t):\n",
    "        return self.sigma**t\n",
    "    \n",
    "    def p_0t_standard_deviation(self,t):\n",
    "        return torch.sqrt( (self.sigma**(2. * t) - 1.) / (2. * torch.log(self.sigma)) )\n",
    "    \n",
    "    def draw_init_config(self,n):\n",
    "        # n: number of samples\n",
    "        randn = torch.randn((n,1), device=device)\n",
    "        t = torch.tensor((1.), device=device)\n",
    "        return randn * self.p_0t_standard_deviation(t)\n",
    "    \n",
    "    def generate_samples(self, n, eps=2e-4):\n",
    "        # n: Number of samples to be generated\n",
    "        # eps: step size\n",
    "        self.network.eval()\n",
    "\n",
    "        phi = self.draw_init_config(n) # Draw from the prior distribution\n",
    "        for i in range(int(1./eps)):\n",
    "            t = 1. - i * eps\n",
    "            t_batch = torch.ones((phi.shape[0],1), device=device) * t\n",
    "\n",
    "            phi = phi.detach()\n",
    "            phi.requires_grad = True\n",
    "            action = self.network(phi, t_batch)\n",
    "            score = torch.autograd.grad(torch.sum(action), phi)[0].detach()\n",
    "            phi = phi + eps * self.sigma**(2*t) * score + self.sigma**t * np.sqrt(eps) * torch.randn_like(phi)\n",
    "            # No *sqrt(2) behind the randn as compared to the SQ method\n",
    "        return phi.detach()\n",
    "    \n",
    "    def loss_function_action(self, x_0):\n",
    "        eps = 1e-5\n",
    "        t = torch.rand((x_0.shape[0], 1), device=device) * (1. - eps) + eps #Second part for numerical stability\n",
    "        lam_sqrt = self.p_0t_standard_deviation(t).view(x_0.shape[0],1)\n",
    "        std_normal_dist = torch.randn_like(x_0, device=device)\n",
    "        x_t = x_0 + lam_sqrt * std_normal_dist\n",
    "        \n",
    "        self.network.train()\n",
    "        x_t = x_t.detach()\n",
    "        x_t.requires_grad = True\n",
    "        action = self.network(x_t, t)\n",
    "        score = torch.autograd.grad(torch.sum(action), x_t, create_graph=True)[0]\n",
    "\n",
    "        loss = (std_normal_dist + score * lam_sqrt)**2\n",
    "        return torch.mean(loss)\n",
    "    \n",
    "    def train_network(self, training_samples, n_epoch, batch_size=128):\n",
    "        self.training_samples = training_samples\n",
    "        n_samples = self.training_samples.shape[0]\n",
    "\n",
    "        tqdm_epoch = trange(n_epoch)\n",
    "        for n in tqdm_epoch:\n",
    "            avg_loss = 0.\n",
    "\n",
    "            num_items = 0\n",
    "            rand_perm = torch.randperm(self.training_samples.shape[0])\n",
    "            self.training_samples = self.training_samples[rand_perm]\n",
    "            for i in range(n_samples//batch_size):\n",
    "                training_batch = self.training_samples[i*batch_size:(i+1)*batch_size]\n",
    "                loss = self.loss_function_action(training_batch.to(device))\n",
    "                self.optimizer.zero_grad()\n",
    "                loss.backward()    \n",
    "                self.optimizer.step()\n",
    "                avg_loss += loss.item() * batch_size\n",
    "                num_items += batch_size\n",
    "            self.scheduler.step()\n",
    "            tqdm_epoch.set_description('Average Loss: {:5f}'.format(avg_loss / num_items))\n",
    "            \n",
    "    def calculate_magnetization(self, n_samples):\n",
    "        # Genera un certo numero di campioni usando la funzione `generate_samples`\n",
    "        samples = self.generate_samples(n_samples)\n",
    "        \n",
    "        # La magnetizzazione è la media dei campioni generati\n",
    "        #magnetization = torch.mean(samples).item()\n",
    "        magnetization = (torch.mean(abs(samples)).item())\n",
    "        return magnetization\n",
    "    \n",
    "    def calculate_susceptibility(self, n_samples):\n",
    "    # Genera campioni usando la funzione generate_samples\n",
    "        samples = self.generate_samples(n_samples)\n",
    "    \n",
    "    # Calcola la varianza dei campioni (relativa alla magnetizzazione)\n",
    "        variance_magnetization = torch.var(abs(samples))\n",
    "    \n",
    "    # La suscettibilità è la varianza moltiplicata per il numero di campioni\n",
    "        susceptibility = variance_magnetization.item() * n_samples\n",
    "        return susceptibility"
   ]
  },
  {
   "cell_type": "markdown",
   "id": "1d8d0398-e25a-4ef5-8ebe-ae7f9ef2b02e",
   "metadata": {},
   "source": [
    "# Generate training samples"
   ]
  },
  {
   "cell_type": "markdown",
   "id": "6ce80177-a2b5-4556-964f-2f21ed29e388",
   "metadata": {},
   "source": [
    "The action of the system:\n",
    "\n",
    "\\begin{equation}\n",
    "S(\\phi) = m \\phi^2 + \\lambda \\phi^4\n",
    "\\end{equation}"
   ]
  },
  {
   "cell_type": "code",
   "execution_count": 4,
   "id": "eb175d85-bb51-4c44-827a-c63341e2bb35",
   "metadata": {},
   "outputs": [],
   "source": [
    "def run_sq(n, total_steps, m, lam):\n",
    "    epsilon = 2e-4\n",
    "    phi = torch.randn((n))\n",
    "    \n",
    "    for i in range(total_steps):\n",
    "        drift_term = 2. * m * phi + 4. * lam * phi**3\n",
    "        phi = phi - epsilon * drift_term + np.sqrt(epsilon) * torch.randn((n)) * np.sqrt(2.)\n",
    "    return phi[:,None]"
   ]
  },
  {
   "cell_type": "markdown",
   "id": "ddccc12a-fa2c-4e26-b367-2a9c3d7ec159",
   "metadata": {},
   "source": [
    "# Network definition"
   ]
  },
  {
   "cell_type": "markdown",
   "id": "d36385d5-9c8a-4eea-9bec-5c3ab14aa631",
   "metadata": {},
   "source": [
    "Simple network, where one would have to do a coefficient fit afterwards"
   ]
  },
  {
   "cell_type": "code",
   "execution_count": 5,
   "id": "f5683d8e-a5ba-4e6a-b900-9cccfeb98b0c",
   "metadata": {},
   "outputs": [],
   "source": [
    "class SimpleNetwork(nn.Module):\n",
    "    def __init__(self):\n",
    "        super().__init__()\n",
    "        self.lint = nn.Linear(1,64)\n",
    "        self.lin1 = nn.Linear(1,64)\n",
    "        self.lin2 = nn.Linear(64,128)\n",
    "        self.lin3 = nn.Linear(128,64)\n",
    "        self.lin4 = nn.Linear(64,1)\n",
    "        \n",
    "        self.act = nn.SiLU()\n",
    "\n",
    "    def forward(self, x, t):\n",
    "        x = self.lin1(x)\n",
    "        x = self.act(x)\n",
    "        t = self.lint(t)\n",
    "        x += self.act(t)\n",
    "        x = self.lin2(x)\n",
    "        x = self.act(x)\n",
    "        x = self.lin3(x)\n",
    "        x = self.act(x)\n",
    "        x = self.lin4(x)\n",
    "        return x"
   ]
  },
  {
   "cell_type": "markdown",
   "id": "b0f35d7b-a353-41e9-ac63-4dd85f7bd35e",
   "metadata": {},
   "source": [
    "Sin and Cos based network, one can read out the parameters via the parameter bool input"
   ]
  },
  {
   "cell_type": "code",
   "execution_count": null,
   "id": "2adc428c-3215-433b-b3d0-ac868ba20ec1",
   "metadata": {},
   "outputs": [],
   "source": [
    "class NetworkSinus(nn.Module):\n",
    "    def __init__(self):\n",
    "        super().__init__()\n",
    "        \n",
    "        self.n_orders = 32 # has to be divideable by 2\n",
    "        dim_lin = 64\n",
    "        \n",
    "        self.layer_1 = nn.ModuleList([nn.Linear(1,dim_lin) for i in range(2*self.n_orders)])\n",
    "        self.layer_2 = nn.ModuleList([nn.Linear(dim_lin,1) for i in range(2*self.n_orders)])\n",
    "        \n",
    "        self.silu = nn.SiLU()\n",
    "\n",
    "    def forward(self, x, t0, params_bool=True):\n",
    "        \n",
    "        coeffs = []\n",
    "        for i in range(2*self.n_orders):\n",
    "            coeff = self.layer_1[i](t0)\n",
    "            coeff = self.silu(coeff)\n",
    "            coeffs.append(self.layer_2[i](coeff))\n",
    "            \n",
    "        if params_bool:\n",
    "           # print(\"Coefficients:\", coeffs[0])  # Stampa i coefficienti\n",
    "            return coeffs[2][0]\n",
    "        \n",
    "    \n",
    "        \n",
    "        else:\n",
    "            action = coeffs[0] * torch.sin(coeffs[1]*x) + coeffs[2] * torch.cos(coeffs[3]*x)\n",
    "            for i in range(4,self.n_orders,4):\n",
    "                action += coeffs[i] * torch.sin(coeffs[i+1]*x) + coeffs[i+2] * torch.cos(coeffs[i+3]*x)\n",
    "            return -action"
   ]
  },
  {
   "cell_type": "code",
   "execution_count": null,
   "id": "571b91ac-ab71-4976-99f5-ad6a250543ca",
   "metadata": {},
   "outputs": [],
   "source": [
    "class LinearPhiSquaredPhiQuarticModel(nn.Module):\n",
    "    def __init__(self):\n",
    "        super(LinearPhiSquaredPhiQuarticModel, self).__init__()\n",
    "        # Un layer lineare per mappare i termini \\phi^2, \\phi^4 e t\n",
    "        self.linear = nn.Linear(3, 1, bias=False)  # 3 input: uno per \\phi^2, uno per \\phi^4, e uno per t\n",
    "    \n",
    "    def forward(self, x, t):\n",
    "        # Genera le feature \\phi^2 e \\phi^4\n",
    "        phi_features = torch.cat([x**2, x**4], dim=1)\n",
    "        \n",
    "        # Aggiungi t come terza feature\n",
    "        t_feature = t.view(-1, 1)  # Assicurati che t abbia la dimensione corretta\n",
    "        features = torch.cat([phi_features, t_feature], dim=1)\n",
    "        \n",
    "        # Passa attraverso il layer lineare\n",
    "        return self.linear(features)\n"
   ]
  },
  {
   "cell_type": "markdown",
   "id": "3dfd36c8-8cd4-4f65-962b-d4686dee0ded",
   "metadata": {},
   "source": [
    "## Visualization"
   ]
  },
  {
   "cell_type": "code",
   "execution_count": 6,
   "id": "38a9a31b-547a-4b78-8693-f9a573764201",
   "metadata": {},
   "outputs": [],
   "source": [
    "def plot_network_t(network, t, phi_max):\n",
    "    grid_dim = 100\n",
    "    eff_action_grid = np.zeros((grid_dim))\n",
    "    t_vec = torch.ones((grid_dim, 1), device=device) * t\n",
    "    eff_action_grid = - network(torch.linspace(-phi_max,phi_max,\n",
    "                                                    grid_dim,device=device)[:,None], t_vec).detach().cpu().numpy().flatten()\n",
    "\n",
    "    phi_axis = np.linspace(-phi_max,phi_max,grid_dim)\n",
    "\n",
    "    fig, ax = plt.subplots(figsize=(9,9))\n",
    "    ax.plot(phi_axis,eff_action_grid)\n",
    "    ax.grid()\n",
    "    ax.set_xlabel(r'$\\phi$')\n",
    "    ax.set_ylabel(r'$S_{\\theta}(\\phi,t)$')\n",
    "    ax.set_title(r'$t=$%f'%t)\n",
    "    plt.show()"
   ]
  },
  {
   "cell_type": "code",
   "execution_count": 7,
   "id": "ebbb0939-8c44-422f-9b0e-9e118cad4bb2",
   "metadata": {},
   "outputs": [],
   "source": [
    "def plot_network(network, phi_max):\n",
    "    grid_dim = 100\n",
    "    eff_action_grid = np.zeros((grid_dim,grid_dim))\n",
    "    for i in range(grid_dim):\n",
    "        t = torch.ones(grid_dim,1, device=device) * i / grid_dim\n",
    "        eff_action_grid[i] = - network(torch.linspace(-phi_max,phi_max,\n",
    "                                                      grid_dim,device=device)[:,None], t).detach().cpu().numpy().flatten()\n",
    "        eff_action_grid[i] = eff_action_grid[i] - eff_action_grid[i,-1] # Optional, fixes purely time dependent part\n",
    "\n",
    "    phi_axis = np.linspace(-phi_max,phi_max,grid_dim)\n",
    "    t_axis = np.linspace(0,1,grid_dim)\n",
    "    phi_grid, t_grid = np.meshgrid(phi_axis, t_axis)\n",
    "\n",
    "    fig, ax = plt.subplots(subplot_kw={\"projection\": \"3d\"}, figsize=(9,9))\n",
    "    ax.plot_surface(phi_grid, t_grid, eff_action_grid, rstride=1, cstride=1,cmap='viridis')\n",
    "    ax.set_xlabel(r'$\\phi$')\n",
    "    ax.set_ylabel('t')\n",
    "    ax.set_zlabel(r'$S_{\\theta}(\\phi,t)$')\n",
    "    plt.show()"
   ]
  },
  {
   "cell_type": "code",
   "execution_count": 8,
   "id": "ed398d93-d205-4936-967d-44af8b973f63",
   "metadata": {},
   "outputs": [],
   "source": [
    "\n",
    "# Funzione per plottare i coefficienti in funzione del tempo per diversi m\n",
    "def plot_coefficients_for_different_m(models, m_values, t_values):\n",
    "    plt.figure(figsize=(10, 6))\n",
    "    \n",
    "    for i, m in enumerate(m_values):\n",
    "        a_coeffs = []\n",
    "        b_coeffs = []\n",
    "        \n",
    "        for t in t_values:\n",
    "            a_t, b_t = extract_coefficients(models[i].network, t)\n",
    "            a_coeffs.append(a_t)\n",
    "            b_coeffs.append(b_t)\n",
    "        \n",
    "        # Plot dei coefficienti a(t)\n",
    "        plt.plot(t_values, a_coeffs, label=f'a(t) per m={m}', marker='o')\n",
    "        print('',a_coeffs)\n",
    "        # Plot dei coefficienti b(t)\n",
    "        #plt.plot(t_values, b_coeffs, label=f'b(t) per m={m}', marker='x', linestyle='--')\n",
    "    \n",
    "    plt.xlabel('t')\n",
    "    plt.ylabel('Coefficient a(t)')\n",
    "    plt.title('Coefficient a(t) for different m')\n",
    "    plt.legend()\n",
    "    plt.grid(True)\n",
    "    plt.show()"
   ]
  },
  {
   "cell_type": "code",
   "execution_count": null,
   "id": "582960bc-b541-4cbf-bd01-731819a41560",
   "metadata": {},
   "outputs": [],
   "source": [
    "def calculate_magnetization_for_different_m(model, n_samples):\n",
    "    magnetizations = []\n",
    "    \n",
    "    # Calcola la magnetizzazione per n_samples\n",
    "    magnetization = model.calculate_magnetization(n_samples)\n",
    "    magnetizations.append(magnetization)\n",
    "        \n",
    "    print(f\"Magnetizzazione per m={m}: {magnetization}\")\n",
    "    \n",
    "    return magnetizations\n"
   ]
  },
  {
   "cell_type": "markdown",
   "id": "632d19b9-a6fd-484f-9ee5-918dd79afb16",
   "metadata": {},
   "source": [
    "# Training"
   ]
  },
  {
   "cell_type": "code",
   "execution_count": null,
   "id": "c615919e-7a3d-4dba-b5af-b141e93ecd36",
   "metadata": {},
   "outputs": [],
   "source": [
    "training_samples = run_sq(100000, 50000, m=-1.0, lam=0.4)"
   ]
  },
  {
   "cell_type": "code",
   "execution_count": null,
   "id": "3343e9dd-6618-4cf7-828c-9235d5847e5c",
   "metadata": {},
   "outputs": [],
   "source": [
    "# m= -2, lam= 0.4"
   ]
  },
  {
   "cell_type": "code",
   "execution_count": null,
   "id": "4f6b6415-619a-4aab-9845-e386de5b339c",
   "metadata": {},
   "outputs": [],
   "source": [
    "network = SimpleNetwork().to(device)\n"
   ]
  },
  {
   "cell_type": "code",
   "execution_count": null,
   "id": "43ae75ad-9c63-4a48-8263-b1950e1e2c1f",
   "metadata": {},
   "outputs": [],
   "source": [
    "model = ActionModel(network)"
   ]
  },
  {
   "cell_type": "code",
   "execution_count": null,
   "id": "8d194b43-8e68-4d69-ab14-3b95c632e75d",
   "metadata": {},
   "outputs": [],
   "source": [
    "model.train_network(training_samples, 200, batch_size=1000)"
   ]
  },
  {
   "cell_type": "code",
   "execution_count": null,
   "id": "521a997f-0087-422d-8d34-88ccd609d0a7",
   "metadata": {},
   "outputs": [],
   "source": [
    "plot_network(model.network, phi_max=15)"
   ]
  },
  {
   "cell_type": "code",
   "execution_count": null,
   "id": "480ab3db-3235-4048-8894-c3a5d1a7ae4b",
   "metadata": {},
   "outputs": [],
   "source": [
    "plot_network_t(model.network, t=0.1, phi_max=2)"
   ]
  },
  {
   "cell_type": "code",
   "execution_count": 11,
   "id": "e0b405ca-0470-43c0-b3dd-cd76c679cc9e",
   "metadata": {},
   "outputs": [],
   "source": [
    "\n",
    "def extract_coefficients(network, t):\n",
    "    # Espandi l'intervallo per includere più valori di phi\n",
    "    phi_values = torch.linspace(-15, 15, 100, device=device)[:, None]\n",
    "    t_tensor = torch.ones_like(phi_values, device=device) * t\n",
    "    \n",
    "    # Calcolare l'azione efficace per questi valori di phi\n",
    "    action_values = network(phi_values, t_tensor).detach().cpu().numpy().flatten()\n",
    "    \n",
    "    # Fit di una serie di Taylor fino al termine quartico\n",
    "    # La funzione di azione dovrebbe avere la forma a(t) * phi^2 + b(t) * phi^4\n",
    "    p = np.polyfit(phi_values.cpu().numpy().flatten(), action_values, 20)\n",
    "    \n",
    "    # Estrai i coefficienti quadratico e quartico\n",
    "    a_t = p[-3]\n",
    "    b_t = p[-5]\n",
    "    \n",
    "    return a_t, b_t\n",
    "\n",
    "#"
   ]
  },
  {
   "cell_type": "code",
   "execution_count": null,
   "id": "755419b3-3d97-459c-b6c2-634b21f55be5",
   "metadata": {},
   "outputs": [],
   "source": [
    "\n",
    "# Esempio per t = 0.1\n",
    "a_t, b_t = extract_coefficients(model.network, t=4.9)\n",
    "print(f\"Termine quadratico a(t=0.1): {a_t}\")\n",
    "print(f\"Termine quartico b(t=0.1): {b_t}\")"
   ]
  },
  {
   "cell_type": "markdown",
   "id": "74d01124-01c1-44cb-9ab5-23a52aa90dd5",
   "metadata": {},
   "source": [
    "## Coefficients evolution for different initial m"
   ]
  },
  {
   "cell_type": "code",
   "execution_count": 9,
   "id": "3d97d8e0-c7e9-4dca-a6af-6da0902aee93",
   "metadata": {},
   "outputs": [
    {
     "data": {
      "application/vnd.jupyter.widget-view+json": {
       "model_id": "7cca81ec4e5e4c3fa2538da7d36f1943",
       "version_major": 2,
       "version_minor": 0
      },
      "text/plain": [
       "  0%|          | 0/200 [00:00<?, ?it/s]"
      ]
     },
     "metadata": {},
     "output_type": "display_data"
    },
    {
     "data": {
      "application/vnd.jupyter.widget-view+json": {
       "model_id": "dc302bffdbca474c8b43d5914549d3b9",
       "version_major": 2,
       "version_minor": 0
      },
      "text/plain": [
       "  0%|          | 0/200 [00:00<?, ?it/s]"
      ]
     },
     "metadata": {},
     "output_type": "display_data"
    }
   ],
   "source": [
    "# Parametri di configurazione\n",
    "m_values = [-1.9,-1]  # Differenti valori di m\n",
    "#m_values = np.linspace(-4, 4, 20) \n",
    "t_values = np.linspace(0.1, 2.0, 10)  # Valori di t su cui calcolare i coefficienti\n",
    "\n",
    "# Lista di modelli per ciascun m\n",
    "models = []\n",
    "\n",
    "# Training per ciascun valore di m\n",
    "for m in m_values:\n",
    "    training_samples = run_sq(100000, 50000, m=m, lam=0.4)\n",
    "    network = SimpleNetwork().to(device)\n",
    "    model = ActionModel(network)\n",
    "    model.train_network(training_samples, 200, batch_size=1000)\n",
    "    models.append(model)\n"
   ]
  },
  {
   "cell_type": "code",
   "execution_count": 10,
   "id": "2bdbc416-21c6-4efe-bf3c-cc360c54d9ce",
   "metadata": {},
   "outputs": [
    {
     "name": "stdout",
     "output_type": "stream",
     "text": [
      " [-0.4571451693910012, -0.05119390625702444, -0.06473092157696946, -0.02269624853809499, -0.0071532901585090024, 0.010021667481714047, 0.039667192147244235, 0.07143324641485078, 0.09947793027641692, 0.12284633153360053]\n",
      " [-0.8045582699407867, -0.21108388762807248, -0.0912817545727331, -0.02901945121756752, -0.009075395521652561, -0.002604995398132779, 0.010218989429521564, 0.029269554715122586, 0.04812474845471628, 0.06318188387781115]\n"
     ]
    },
    {
     "name": "stderr",
     "output_type": "stream",
     "text": [
      "/tmp/ipykernel_2928132/1970512294.py:10: RankWarning: Polyfit may be poorly conditioned\n",
      "  a_t, b_t = extract_coefficients(models[i].network, t)\n",
      "/tmp/ipykernel_2928132/1970512294.py:10: RankWarning: Polyfit may be poorly conditioned\n",
      "  a_t, b_t = extract_coefficients(models[i].network, t)\n",
      "/tmp/ipykernel_2928132/1970512294.py:10: RankWarning: Polyfit may be poorly conditioned\n",
      "  a_t, b_t = extract_coefficients(models[i].network, t)\n",
      "/tmp/ipykernel_2928132/1970512294.py:10: RankWarning: Polyfit may be poorly conditioned\n",
      "  a_t, b_t = extract_coefficients(models[i].network, t)\n",
      "/tmp/ipykernel_2928132/1970512294.py:10: RankWarning: Polyfit may be poorly conditioned\n",
      "  a_t, b_t = extract_coefficients(models[i].network, t)\n",
      "/tmp/ipykernel_2928132/1970512294.py:10: RankWarning: Polyfit may be poorly conditioned\n",
      "  a_t, b_t = extract_coefficients(models[i].network, t)\n",
      "/tmp/ipykernel_2928132/1970512294.py:10: RankWarning: Polyfit may be poorly conditioned\n",
      "  a_t, b_t = extract_coefficients(models[i].network, t)\n",
      "/tmp/ipykernel_2928132/1970512294.py:10: RankWarning: Polyfit may be poorly conditioned\n",
      "  a_t, b_t = extract_coefficients(models[i].network, t)\n",
      "/tmp/ipykernel_2928132/1970512294.py:10: RankWarning: Polyfit may be poorly conditioned\n",
      "  a_t, b_t = extract_coefficients(models[i].network, t)\n",
      "/tmp/ipykernel_2928132/1970512294.py:10: RankWarning: Polyfit may be poorly conditioned\n",
      "  a_t, b_t = extract_coefficients(models[i].network, t)\n",
      "/tmp/ipykernel_2928132/1970512294.py:10: RankWarning: Polyfit may be poorly conditioned\n",
      "  a_t, b_t = extract_coefficients(models[i].network, t)\n",
      "/tmp/ipykernel_2928132/1970512294.py:10: RankWarning: Polyfit may be poorly conditioned\n",
      "  a_t, b_t = extract_coefficients(models[i].network, t)\n",
      "/tmp/ipykernel_2928132/1970512294.py:10: RankWarning: Polyfit may be poorly conditioned\n",
      "  a_t, b_t = extract_coefficients(models[i].network, t)\n",
      "/tmp/ipykernel_2928132/1970512294.py:10: RankWarning: Polyfit may be poorly conditioned\n",
      "  a_t, b_t = extract_coefficients(models[i].network, t)\n",
      "/tmp/ipykernel_2928132/1970512294.py:10: RankWarning: Polyfit may be poorly conditioned\n",
      "  a_t, b_t = extract_coefficients(models[i].network, t)\n",
      "/tmp/ipykernel_2928132/1970512294.py:10: RankWarning: Polyfit may be poorly conditioned\n",
      "  a_t, b_t = extract_coefficients(models[i].network, t)\n",
      "/tmp/ipykernel_2928132/1970512294.py:10: RankWarning: Polyfit may be poorly conditioned\n",
      "  a_t, b_t = extract_coefficients(models[i].network, t)\n",
      "/tmp/ipykernel_2928132/1970512294.py:10: RankWarning: Polyfit may be poorly conditioned\n",
      "  a_t, b_t = extract_coefficients(models[i].network, t)\n",
      "/tmp/ipykernel_2928132/1970512294.py:10: RankWarning: Polyfit may be poorly conditioned\n",
      "  a_t, b_t = extract_coefficients(models[i].network, t)\n",
      "/tmp/ipykernel_2928132/1970512294.py:10: RankWarning: Polyfit may be poorly conditioned\n",
      "  a_t, b_t = extract_coefficients(models[i].network, t)\n"
     ]
    },
    {
     "data": {
      "image/png": "[encoded data removed]",
      "text/plain": [
       "<Figure size 720x432 with 1 Axes>"
      ]
     },
     "metadata": {
      "needs_background": "light"
     },
     "output_type": "display_data"
    }
   ],
   "source": [
    "# Plottaggio dei coefficienti a(t) e b(t) per diversi valori di m\n",
    "plot_coefficients_for_different_m(models, m_values, t_values)"
   ]
  },
  {
   "cell_type": "code",
   "execution_count": null,
   "id": "1c1b4978-fa67-4b35-a52e-a0d6f54fcac9",
   "metadata": {},
   "outputs": [],
   "source": [
    "\n",
    "# Inizializza una lista vuota per salvare le magnetizzazioni\n",
    "magnetizations = []\n",
    "\n",
    "# Itera sui modelli e calcola la magnetizzazione per ciascuno\n",
    "n_samples = 100  # Numero di campioni che vuoi generare per la magnetizzazione\n",
    "\n",
    "for model in models:\n",
    "    # Calcola la magnetizzazione per il modello attuale\n",
    "    magnetization = model.calculate_magnetization(n_samples=n_samples)\n",
    "    \n",
    "    # Aggiungi la magnetizzazione al vettore\n",
    "    magnetizations.append(magnetization)\n",
    "\n",
    "# Ora la lista `magnetizations` contiene le magnetizzazioni per ogni modello\n",
    "print(\"Magnetizzazioni per i vari modelli:\", magnetizations)\n"
   ]
  },
  {
   "cell_type": "code",
   "execution_count": null,
   "id": "b5727545-ebed-4c3a-bc35-31298d1e8bae",
   "metadata": {},
   "outputs": [],
   "source": [
    "\n",
    "# Creare il plot\n",
    "plt.figure(figsize=(10, 6))\n",
    "plt.plot(m_values, magnetizations, marker='o', linestyle='-', color='b')\n",
    "\n",
    "# Aggiungere etichette e titolo\n",
    "plt.xlabel('Valori di m')\n",
    "plt.ylabel('Magnetizzazione')\n",
    "plt.title('Magnetizzazione in funzione di m')\n",
    "plt.grid(True)\n",
    "#plt.ylim(-1,1)\n",
    "# Mostrare il grafico\n",
    "plt.show()\n"
   ]
  },
  {
   "cell_type": "code",
   "execution_count": null,
   "id": "ac33d002-a9b2-4fd4-88b1-630cca052aee",
   "metadata": {},
   "outputs": [],
   "source": [
    "# Inizializza una lista vuota per salvare le suscettibilità\n",
    "susceptibilities = []\n",
    "\n",
    "# Itera sui modelli e calcola la suscettibilità per ciascuno\n",
    "for model in models:\n",
    "    # Calcola la suscettibilità per il modello attuale\n",
    "    susceptibility = model.calculate_susceptibility(n_samples=n_samples)\n",
    "    \n",
    "    # Aggiungi la suscettibilità al vettore\n",
    "    susceptibilities.append(susceptibility)\n",
    "\n",
    "# Ora la lista `susceptibilities` contiene le suscettibilità per ogni modello\n",
    "print(\"Suscettibilità per i vari modelli:\", susceptibilities)\n"
   ]
  },
  {
   "cell_type": "code",
   "execution_count": null,
   "id": "a4177791-5a1a-455a-b2a8-5a4d2c62ac54",
   "metadata": {},
   "outputs": [],
   "source": [
    "# Creare il plot\n",
    "plt.figure(figsize=(10, 6))\n",
    "plt.plot(m_values, susceptibilities, marker='o', linestyle='-', color='b')\n",
    "\n",
    "# Aggiungere etichette e titolo\n",
    "plt.xlabel('Valori di m')\n",
    "plt.ylabel('Susceptibility')\n",
    "plt.title('Susceptibility as a function of m')\n",
    "plt.grid(True)\n",
    "#plt.ylim(-1,1)\n",
    "# Mostrare il grafico\n",
    "plt.show()\n"
   ]
  },
  {
   "cell_type": "markdown",
   "id": "c4787e68-2ea1-4d8a-8958-7986af326573",
   "metadata": {},
   "source": [
    "## Training for different parameters of the action"
   ]
  },
  {
   "cell_type": "code",
   "execution_count": null,
   "id": "4f07b08b-552f-4f10-8987-cfc49cd00fe7",
   "metadata": {},
   "outputs": [],
   "source": [
    "lam = 0.4\n",
    "m_list = [-1.5, -0.9, -0.2, 0.1, 0.7]\n",
    "\n",
    "for m in m_list:\n",
    "    training_samples = run_sq(100000, 50000, m=m, lam=lam)\n",
    "    \n",
    "    network = NetworkSinus().to(device)\n",
    "    model = ActionModel(network)\n",
    "    \n",
    "    model.train_network(training_samples, 500, batch_size=1000)\n",
    "    \n",
    "    print('lambda= ', lam, ', m = ', m, ':')\n",
    "    \n",
    "    fig, ax1 = plt.subplots(figsize=(9,5))\n",
    "    ax1.hist(model.generate_samples(100000).cpu().detach().numpy(), \n",
    "             bins=70, range=(-3.,3.), alpha=0.5, label='Generated samples')\n",
    "    ax1.hist(training_samples.numpy(), \n",
    "             bins=70, range=(-3.,3.), alpha=0.5, label='Training samples')\n",
    "    ax1.legend()\n",
    "    ax1.set_ylabel('Number of samples')\n",
    "    ax1.legend(loc='upper left')\n",
    "    ax1.set_xlabel(r'$\\phi$')\n",
    "    plt.show()\n",
    "    \n",
    "    plot_network(model.network, phi_max=2)\n",
    "    print('-----------------------------------------------')"
   ]
  },
  {
   "cell_type": "markdown",
   "id": "9678f2c0-3ab6-42e0-97c8-65b61e710b09",
   "metadata": {},
   "source": [
    "## Train and save networks"
   ]
  },
  {
   "cell_type": "code",
   "execution_count": null,
   "id": "a6d60821-9fe4-4220-96af-78b308ee6107",
   "metadata": {},
   "outputs": [],
   "source": [
    "folder_path =  r''\n"
   ]
  },
  {
   "cell_type": "code",
   "execution_count": null,
   "id": "ec36a9bf-b3b7-4388-b34b-e46d4d828fec",
   "metadata": {},
   "outputs": [],
   "source": [
    "lam = 0.4\n",
    "m_list = [-1.5, -0.9, -0.2, 0.1, 0.7]"
   ]
  },
  {
   "cell_type": "code",
   "execution_count": null,
   "id": "70d951cf-3d15-4478-b10a-682cb6b73aad",
   "metadata": {},
   "outputs": [],
   "source": [
    "i = 0\n",
    "for m in m_list:\n",
    "    training_samples = run_sq(100000, 50000, m=m, lam=lam)\n",
    "    \n",
    "    network = NetworkSinus().to(device)\n",
    "    model = ActionModel(network)\n",
    "    \n",
    "    model.train_network(training_samples, 1000, batch_size=1000)\n",
    "    \n",
    "    i += 1\n",
    "    torch.save({'model_state_dict': model.network.state_dict(),\n",
    "                'optimizer_state_dict': model.optimizer.state_dict()}, folder_path+'sinus_net_{0}.pt'.format(i))"
   ]
  },
  {
   "cell_type": "code",
   "execution_count": null,
   "id": "fe7d17fd-d02e-43e2-873c-6846d3e61d63",
   "metadata": {},
   "outputs": [],
   "source": [
    "i=0\n",
    "for m in m_list:\n",
    "    training_samples = run_sq(100000, 50000, m=m, lam=lam)\n",
    "    \n",
    "    network = NetworkSinus().to(device)\n",
    "    model = ActionModel(network)\n",
    "    i +=1\n",
    "    checkpoint = torch.load(folder_path+'sinus_net_{0}.pt'.format(i))\n",
    "    model.network.load_state_dict(checkpoint['model_state_dict'])\n",
    "    model.optimizer.load_state_dict(checkpoint['optimizer_state_dict'])\n",
    "    \n",
    "    print('lambda= ', lam, ', m = ', m, ':')\n",
    "    \n",
    "    fig, ax1 = plt.subplots(figsize=(9,5))\n",
    "    ax1.hist(model.generate_samples(100000).cpu().detach().numpy(), \n",
    "             bins=70, range=(-3.,3.), alpha=0.5, label='Generated samples')\n",
    "    ax1.hist(training_samples.numpy(), \n",
    "             bins=70, range=(-3.,3.), alpha=0.5, label='Training samples')\n",
    "    ax1.legend()\n",
    "    ax1.set_ylabel('Number of samples')\n",
    "    ax1.legend(loc='upper left')\n",
    "    ax1.set_xlabel(r'$\\phi$')\n",
    "    plt.show()\n",
    "    \n",
    "    plot_network(model.network, phi_max=2)\n",
    "    print('-----------------------------------------------')"
   ]
  },
  {
   "cell_type": "code",
   "execution_count": null,
   "id": "8d66f24f-b463-453c-9c79-3152ef5e6cac",
   "metadata": {},
   "outputs": [],
   "source": [
    "model.network(training_samples[0:2], torch.tensor([[0.1],[0.5]], device=device), params_bool=True)"
   ]
  },
  {
   "cell_type": "code",
   "execution_count": null,
   "id": "9efce48f-1c71-4222-bb93-fd61ce606b16",
   "metadata": {},
   "outputs": [],
   "source": [
    "\n",
    "# Parametri iniziali\n",
    "m0 = -1  # Valore iniziale di m^2 (alla scala \\mu_0)\n",
    "lambda0 = 0.4  # Valore iniziale di \\lambda (alla scala \\mu_0)\n",
    "mu_0 = 1  # Scala iniziale\n",
    "mu_max = 1000000000  # Scala massima\n",
    "num_steps = 500  # Numero di passi per la scala logaritmica\n",
    "\n",
    "# Costante di un loop nel modello \\phi^4\n",
    "loop_factor = 16 * np.pi**2\n",
    "\n",
    "# Inizializzazione di log(mu) e dei parametri\n",
    "log_mu = np.linspace(np.log(mu_0), np.log(mu_max), num_steps)\n",
    "m_squared = np.zeros(num_steps)\n",
    "lambda_coupling = np.zeros(num_steps)\n",
    "\n",
    "# Condizioni iniziali\n",
    "m_squared[0] = m0\n",
    "lambda_coupling[0] = lambda0\n",
    "\n",
    "# Metodo di Eulero per risolvere le equazioni di flusso\n",
    "for i in range(1, num_steps):\n",
    "    delta_log_mu = log_mu[i] - log_mu[i-1]\n",
    "\n",
    "    # Derivate delle equazioni di RG\n",
    "    dm2_dlogmu = -lambda_coupling[i-1] / loop_factor\n",
    "    dlambda_dlogmu = (3 * lambda_coupling[i-1]**2) / loop_factor\n",
    "\n",
    "    # Aggiorniamo i valori di m^2 e lambda\n",
    "    m_squared[i] = m_squared[i-1] + delta_log_mu * dm2_dlogmu\n",
    "    lambda_coupling[i] = lambda_coupling[i-1] + delta_log_mu * dlambda_dlogmu\n",
    "\n",
    "# Plot dei risultati\n",
    "mu_values = np.exp(log_mu)\n",
    "fig, ax1 = plt.subplots(figsize=(10,6))\n",
    "\n",
    "ax1.set_xlabel(r'$\\mu$')\n",
    "ax1.set_ylabel(r'$m^2(\\mu)$', color='tab:blue')\n",
    "ax1.plot(mu_values, m_squared, color='tab:blue', label=r'$m^2(\\mu)$')\n",
    "ax1.tick_params(axis='y', labelcolor='tab:blue')\n",
    "\n",
    "ax2 = ax1.twinx()  \n",
    "ax2.set_ylabel(r'$\\lambda(\\mu)$', color='tab:red')  \n",
    "ax2.plot(mu_values, lambda_coupling, color='tab:red', label=r'$\\lambda(\\mu)$')\n",
    "ax2.tick_params(axis='y', labelcolor='tab:red')\n",
    "\n",
    "fig.tight_layout()  \n",
    "plt.title('Evoluzione di $m^2(\\mu)$ e $\\\\lambda(\\\\mu)$ sotto il flusso RG')\n",
    "plt.grid(True)\n",
    "plt.show()\n"
   ]
  },
  {
   "cell_type": "code",
   "execution_count": null,
   "id": "d49ae2e3-1fa3-4d4b-a74e-c03a32ca740e",
   "metadata": {},
   "outputs": [],
   "source": [
    "\n",
    "from scipy.integrate import odeint\n",
    "\n",
    "\n",
    "# Funzioni beta per m e lambda\n",
    "def beta_functions(couplings, t):\n",
    "    m, lam = couplings\n",
    "    # Definisci le equazioni differenziali per il flusso di rinormalizzazione\n",
    "    beta_m = -2 * m + lam / (4 * np.pi**2)\n",
    "    beta_lambda = 3 * lam**2 / (4 * np.pi**2)\n",
    "    return [beta_m, beta_lambda]\n",
    "\n",
    "# Valori iniziali per m e lambda\n",
    "initial_m = -1\n",
    "initial_lambda = 0.1\n",
    "\n",
    "# Range di t per l'integrazione (puoi pensare a t come la scala logaritmica di energia)\n",
    "t_values = np.linspace(0, 10, 100)\n",
    "\n",
    "# Risolvi il sistema di ODE usando odeint\n",
    "solution = odeint(beta_functions, [initial_m, initial_lambda], t_values)\n",
    "\n",
    "# Estrai le soluzioni per m(t) e lambda(t)\n",
    "m_values = solution[:, 0]\n",
    "lambda_values = solution[:, 1]\n",
    "\n",
    "# Plot dei risultati\n",
    "plt.figure(figsize=(10, 5))\n",
    "plt.subplot(1, 2, 1)\n",
    "plt.plot(t_values, m_values, label='m(t)')\n",
    "plt.xlabel('t')\n",
    "plt.ylabel('m(t)')\n",
    "plt.title('Flusso di rinormalizzazione per m(t)')\n",
    "plt.grid(True)\n",
    "\n",
    "plt.subplot(1, 2, 2)\n",
    "plt.plot(t_values, lambda_values, label='lambda(t)')\n",
    "plt.xlabel('t')\n",
    "plt.ylabel('lambda(t)')\n",
    "plt.title('Flusso di rinormalizzazione per lambda(t)')\n",
    "plt.grid(True)\n",
    "\n",
    "plt.tight_layout()\n",
    "plt.show()"
   ]
  },
  {
   "cell_type": "code",
   "execution_count": null,
   "id": "59e8ba2c-3715-4e6f-8239-10daa45de1a5",
   "metadata": {},
   "outputs": [],
   "source": []
  }
 ],
 "metadata": {
  "kernelspec": {
   "display_name": "Python 3 (ipykernel)",
   "language": "python",
   "name": "python3"
  },
  "language_info": {
   "codemirror_mode": {
    "name": "ipython",
    "version": 3
   },
   "file_extension": ".py",
   "mimetype": "text/x-python",
   "name": "python",
   "nbconvert_exporter": "python",
   "pygments_lexer": "ipython3",
   "version": "3.10.5"
  }
 },
 "nbformat": 4,
 "nbformat_minor": 5
}
